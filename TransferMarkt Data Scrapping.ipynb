{
 "cells": [
  {
   "cell_type": "markdown",
   "id": "09b4aadf",
   "metadata": {},
   "source": [
    "# Scrapping the football data from TransferMarkt.com website using python"
   ]
  },
  {
   "cell_type": "code",
   "execution_count": 8,
   "id": "c078c064",
   "metadata": {},
   "outputs": [],
   "source": [
    "# Importing the modules and Pakages required\n",
    "\n",
    "import pandas as pd\n",
    "import numpy as np\n",
    "import matplotlib.pyplot as plt\n",
    "import re\n",
    "import requests\n",
    "from bs4 import BeautifulSoup"
   ]
  },
  {
   "cell_type": "markdown",
   "id": "dda1cdc6",
   "metadata": {},
   "source": [
    "## Method-1 - Using CSS Selector"
   ]
  },
  {
   "cell_type": "code",
   "execution_count": 26,
   "id": "5f392a21",
   "metadata": {},
   "outputs": [],
   "source": [
    "# Step-1: Search the data on the TransferMarkt website we want to scrape.\n",
    "\n",
    "# Step-2: Copy the URL from the website. The number at the last of the URL is the Player ID to fetch all the data related to \n",
    "# the player.\n",
    "\n",
    "# Step-3: Spilt the URL after every / to get separate elements (list of elements).\n",
    "\n",
    "url = \"https://www.transfermarkt.co.in/erling-haaland/profil/spieler/418560\"\n",
    "player_id = url.split('/')[-1]"
   ]
  },
  {
   "cell_type": "code",
   "execution_count": 28,
   "id": "56a2ebe9",
   "metadata": {},
   "outputs": [],
   "source": [
    "# Step-4: Use the headers to resolve the issues of the browser issues and permissions. Headers will help in fetching the \n",
    "# information using our system information like Browser version.\n",
    "\n",
    "# Go to WhatismyBrowser.com -> Go to User Agent -> Create variable headers and paste User agent value in it -> It will look \n",
    "# like a dictionary.\n",
    "\n",
    "headers = {\"User-Agent\": \n",
    "           \"Mozilla/5.0 (Windows NT 10.0; Win64; x64) AppleWebKit/537.36 (KHTML, like Gecko) Chrome/125.0.0.0 Safari/537.36\"}"
   ]
  },
  {
   "cell_type": "code",
   "execution_count": 5,
   "id": "128289eb",
   "metadata": {},
   "outputs": [],
   "source": [
    "# Step-5: After setting user agent, we will now make a request to the web page\n",
    "\n",
    "response = requests.get(url, headers=headers)"
   ]
  },
  {
   "cell_type": "code",
   "execution_count": 6,
   "id": "593cb1d0",
   "metadata": {},
   "outputs": [
    {
     "data": {
      "text/plain": [
       "200"
      ]
     },
     "execution_count": 6,
     "metadata": {},
     "output_type": "execute_result"
    }
   ],
   "source": [
    "# Step-6: Check if the status is correct for the request made (If status_code-200 means request is successful)\n",
    "response.status_code"
   ]
  },
  {
   "cell_type": "code",
   "execution_count": 9,
   "id": "07523a77",
   "metadata": {},
   "outputs": [],
   "source": [
    "# Step-7: If response is 200, we will convert the response into a BeautifulSoup to get the data from the webpage\n",
    "\n",
    "# This BeautifulSoup will turn the html page into a soup object, which will help in extracting the data from the webpage\n",
    "\n",
    "soup = BeautifulSoup(response.content, \"html.parser\")"
   ]
  },
  {
   "cell_type": "code",
   "execution_count": 15,
   "id": "2f41af93",
   "metadata": {},
   "outputs": [
    {
     "data": {
      "text/plain": [
       "'Erling Haaland'"
      ]
     },
     "execution_count": 15,
     "metadata": {},
     "output_type": "execute_result"
    }
   ],
   "source": [
    "# Step-8: We will fetch the data using the css selector from the webpage using the soup. Here we will object and parse the \n",
    "# css value of the data\n",
    "# We will fetch the player name from the TransferMarkt websiite here \n",
    "\n",
    "player_name = soup.select_one('h1[class=\"data-header__headline-wrapper\"]').text.split('\\n')[-1].strip()\n",
    "\n",
    "# Printing the value of the player name\n",
    "\n",
    "player_name"
   ]
  },
  {
   "cell_type": "code",
   "execution_count": 20,
   "id": "64bbd07e",
   "metadata": {},
   "outputs": [
    {
     "data": {
      "text/plain": [
       "9"
      ]
     },
     "execution_count": 20,
     "metadata": {},
     "output_type": "execute_result"
    }
   ],
   "source": [
    "# Step-9: Using the same process, we will fetch the shirt number of the player\n",
    "\n",
    "player_number = soup.select_one('span[class=\"data-header__shirt-number\"]').text.replace('#', '').strip()\n",
    "\n",
    "# Printing the value of player_number\n",
    "player_number\n",
    "\n",
    "# Converting the value into integer\n",
    "int(player_number)"
   ]
  },
  {
   "cell_type": "markdown",
   "id": "48d38eb6",
   "metadata": {},
   "source": [
    "## Method-2 - Using Regular Expressions (Regex)"
   ]
  },
  {
   "cell_type": "code",
   "execution_count": 22,
   "id": "722adbb1",
   "metadata": {},
   "outputs": [
    {
     "data": {
      "text/plain": [
       "'Jun 30, 2027'"
      ]
     },
     "execution_count": 22,
     "metadata": {},
     "output_type": "execute_result"
    }
   ],
   "source": [
    "# Using regex, we will try to fetch out the contract expiry of the player. \n",
    "\n",
    "# Step-1: Go to the webiste and open View Page Source by clicking right on the screen. In the View Page Source, search for \n",
    "# Contract Expires and copy value above and below the actual value.\n",
    "\n",
    "# Step-2: Go to Regex101 and create a python flavor for that using the available information.\n",
    "# In the Regex expression, first we need to select the Matching content with our requirement and then create a group of the \n",
    "# value asssociated with the content. \n",
    "\n",
    "# In the regex expression, first we will put the fetching value, then that will equal to select complete span using (.*) and \n",
    "# (__content\\\") which will fetcch the whole span. After that to select the value use (.*?) to select the match exists and then \n",
    "# to select only particular span or class use (</span>) at the end.\n",
    "\n",
    "# Step-3: Once we have the python regex expression, using re package we will fetch the value. We will use soup in str to get \n",
    "# the value in the form of string\n",
    "\n",
    "player_contract_expiry = re.search(\"Contract expires: .*__content\\\">(.*?)</span>\", str(soup)).group(1)\n",
    "player_contract_expiry"
   ]
  },
  {
   "cell_type": "markdown",
   "id": "52b80603",
   "metadata": {},
   "source": [
    "## Method-3 - Using API "
   ]
  },
  {
   "cell_type": "code",
   "execution_count": 23,
   "id": "d5c2c2d5",
   "metadata": {},
   "outputs": [],
   "source": [
    "# In this method, we will use the API present for the data we need to fetch. \n",
    "\n",
    "# Step-1: Go to the Inspect (Google Developer Tool) on the website -> Go to the Network tab, where all API related data is \n",
    "# present, Find the required API among all the present APIs. \n",
    "\n",
    "# Step-2: Once you found the required API, preview it and cross-check that it is the right one. Then, right clcik on it and \n",
    "# Copy it as cURL(bash) and convert it into JSON first using curl converter online and then convert that it into Python code. \n",
    "# From that Python code, identify which part is required to insert into the code and use that. (Mostly required is the Response \n",
    "# code part)\n",
    "\n",
    "response = requests.get(\n",
    "    f'https://www.transfermarkt.co.in/ceapi/marketValueDevelopment/graph/{player_id}',\n",
    "    headers=headers,\n",
    ")"
   ]
  },
  {
   "cell_type": "code",
   "execution_count": 24,
   "id": "9e95d5bc",
   "metadata": {},
   "outputs": [
    {
     "data": {
      "text/plain": [
       "200"
      ]
     },
     "execution_count": 24,
     "metadata": {},
     "output_type": "execute_result"
    }
   ],
   "source": [
    "# Check if the status is correct for the request made (If status_code-200 means request is successful)\n",
    "\n",
    "response.status_code"
   ]
  },
  {
   "cell_type": "code",
   "execution_count": 25,
   "id": "d5ae8c22",
   "metadata": {},
   "outputs": [
    {
     "data": {
      "text/plain": [
       "{'list': [{'x': 1482015600000,\n",
       "   'y': 16000000,\n",
       "   'mw': '₹1.6 Cr',\n",
       "   'datum_mw': 'Dec 18, 2016',\n",
       "   'verein': 'Bryne FK',\n",
       "   'age': '16',\n",
       "   'wappen': 'https://tmssl.akamaized.net/images/wappen/profil/1057.png?lm=1480871779'},\n",
       "  {'x': 1513983600000,\n",
       "   'y': 24000000,\n",
       "   'mw': '₹2.4 Cr',\n",
       "   'datum_mw': 'Dec 23, 2017',\n",
       "   'verein': 'Molde FK',\n",
       "   'age': '17',\n",
       "   'wappen': 'https://tmssl.akamaized.net/images/wappen/profil/687.png?lm=1409159512'},\n",
       "  {'x': 1536530400000,\n",
       "   'y': 160000000,\n",
       "   'mw': '₹16 Cr',\n",
       "   'datum_mw': 'Sep 10, 2018',\n",
       "   'verein': 'Molde FK',\n",
       "   'age': '18',\n",
       "   'wappen': ''},\n",
       "  {'x': 1546124400000,\n",
       "   'y': 400000000,\n",
       "   'mw': '₹40 Cr',\n",
       "   'datum_mw': 'Dec 30, 2018',\n",
       "   'verein': 'Molde FK',\n",
       "   'age': '18',\n",
       "   'wappen': ''},\n",
       "  {'x': 1559512800000,\n",
       "   'y': 400000000,\n",
       "   'mw': '₹40 Cr',\n",
       "   'datum_mw': 'Jun 3, 2019',\n",
       "   'verein': 'Red Bull Salzburg',\n",
       "   'age': '18',\n",
       "   'wappen': 'https://tmssl.akamaized.net/images/wappen/profil/409_1557781653.png?lm=1557781653'},\n",
       "  {'x': 1567461600000,\n",
       "   'y': 960000000,\n",
       "   'mw': '₹96 Cr',\n",
       "   'datum_mw': 'Sep 3, 2019',\n",
       "   'verein': 'Red Bull Salzburg',\n",
       "   'age': '19',\n",
       "   'wappen': ''},\n",
       "  {'x': 1573081200000,\n",
       "   'y': 2400000000,\n",
       "   'mw': '₹240 Cr',\n",
       "   'datum_mw': 'Nov 7, 2019',\n",
       "   'verein': 'Red Bull Salzburg',\n",
       "   'age': '19',\n",
       "   'wappen': ''},\n",
       "  {'x': 1576450800000,\n",
       "   'y': 3600000000,\n",
       "   'mw': '₹360 Cr',\n",
       "   'datum_mw': 'Dec 16, 2019',\n",
       "   'verein': 'Red Bull Salzburg',\n",
       "   'age': '19',\n",
       "   'wappen': ''},\n",
       "  {'x': 1581375600000,\n",
       "   'y': 4800000000,\n",
       "   'mw': '₹480 Cr',\n",
       "   'datum_mw': 'Feb 11, 2020',\n",
       "   'verein': 'Borussia Dortmund',\n",
       "   'age': '19',\n",
       "   'wappen': 'https://tmssl.akamaized.net/images/wappen/profil/16.png?lm=1396275280'},\n",
       "  {'x': 1583881200000,\n",
       "   'y': 6400000000,\n",
       "   'mw': '₹640 Cr',\n",
       "   'datum_mw': 'Mar 11, 2020',\n",
       "   'verein': 'Borussia Dortmund',\n",
       "   'age': '19',\n",
       "   'wappen': ''},\n",
       "  {'x': 1586296800000,\n",
       "   'y': 5760000000,\n",
       "   'mw': '₹576 Cr',\n",
       "   'datum_mw': 'Apr 8, 2020',\n",
       "   'verein': 'Borussia Dortmund',\n",
       "   'age': '19',\n",
       "   'wappen': ''},\n",
       "  {'x': 1600207200000,\n",
       "   'y': 6400000000,\n",
       "   'mw': '₹640 Cr',\n",
       "   'datum_mw': 'Sep 16, 2020',\n",
       "   'verein': 'Borussia Dortmund',\n",
       "   'age': '20',\n",
       "   'wappen': ''},\n",
       "  {'x': 1606345200000,\n",
       "   'y': 8000000000,\n",
       "   'mw': '₹800 Cr',\n",
       "   'datum_mw': 'Nov 26, 2020',\n",
       "   'verein': 'Borussia Dortmund',\n",
       "   'age': '20',\n",
       "   'wappen': ''},\n",
       "  {'x': 1612911600000,\n",
       "   'y': 8800000000,\n",
       "   'mw': '₹880 Cr',\n",
       "   'datum_mw': 'Feb 10, 2021',\n",
       "   'verein': 'Borussia Dortmund',\n",
       "   'age': '20',\n",
       "   'wappen': ''},\n",
       "  {'x': 1623189600000,\n",
       "   'y': 10400000000,\n",
       "   'mw': '₹1,040 Cr',\n",
       "   'datum_mw': 'Jun 9, 2021',\n",
       "   'verein': 'Borussia Dortmund',\n",
       "   'age': '20',\n",
       "   'wappen': ''},\n",
       "  {'x': 1633557600000,\n",
       "   'y': 12000000000,\n",
       "   'mw': '₹1,200 Cr',\n",
       "   'datum_mw': 'Oct 7, 2021',\n",
       "   'verein': 'Borussia Dortmund',\n",
       "   'age': '21',\n",
       "   'wappen': ''},\n",
       "  {'x': 1640127600000,\n",
       "   'y': 12000000000,\n",
       "   'mw': '₹1,200 Cr',\n",
       "   'datum_mw': 'Dec 22, 2021',\n",
       "   'verein': 'Borussia Dortmund',\n",
       "   'age': '21',\n",
       "   'wappen': ''},\n",
       "  {'x': 1654725600000,\n",
       "   'y': 12000000000,\n",
       "   'mw': '₹1,200 Cr',\n",
       "   'datum_mw': 'Jun 9, 2022',\n",
       "   'verein': 'Borussia Dortmund',\n",
       "   'age': '21',\n",
       "   'wappen': ''},\n",
       "  {'x': 1667430000000,\n",
       "   'y': 13600000000,\n",
       "   'mw': '₹1,360 Cr',\n",
       "   'datum_mw': 'Nov 3, 2022',\n",
       "   'verein': 'Manchester City',\n",
       "   'age': '22',\n",
       "   'wappen': 'https://tmssl.akamaized.net/images/wappen/profil/281.png?lm=1467356331'},\n",
       "  {'x': 1687212000000,\n",
       "   'y': 14400000000,\n",
       "   'mw': '₹1,440 Cr',\n",
       "   'datum_mw': 'Jun 20, 2023',\n",
       "   'verein': 'Manchester City',\n",
       "   'age': '22',\n",
       "   'wappen': ''},\n",
       "  {'x': 1702940400000,\n",
       "   'y': 14400000000,\n",
       "   'mw': '₹1,440 Cr',\n",
       "   'datum_mw': 'Dec 19, 2023',\n",
       "   'verein': 'Manchester City',\n",
       "   'age': '23',\n",
       "   'wappen': ''},\n",
       "  {'x': 1716760800000,\n",
       "   'y': 14400000000,\n",
       "   'mw': '₹1,440 Cr',\n",
       "   'datum_mw': 'May 27, 2024',\n",
       "   'verein': 'Manchester City',\n",
       "   'age': '23',\n",
       "   'wappen': 'https://tmssl.akamaized.net/images/wappen/profil/281.png?lm=1467356331'}],\n",
       " 'current': '₹1,440 Cr',\n",
       " 'highest': '₹1,440 Cr',\n",
       " 'highest_date': 'Jun 20, 2023',\n",
       " 'last_change': 'May 27, 2024',\n",
       " 'details_url': '/erling-haaland/marktwertverlauf/spieler/418560',\n",
       " 'thread': {'url': '', 'thread_title': '', 'count_replies': ''},\n",
       " 'translations': {'market value': 'Market value',\n",
       "  'team': 'Club',\n",
       "  'age': 'Age',\n",
       "  'resetZoom': 'Vollansicht',\n",
       "  'current': 'Current Market Value\\n\\n',\n",
       "  'highest': 'Highest market value',\n",
       "  'thread': 'View market value analysis',\n",
       "  'forum': 'Forum',\n",
       "  'details': 'Market value details',\n",
       "  'headline': 'Market value over time',\n",
       "  'lastChange': 'Last update'}}"
      ]
     },
     "execution_count": 25,
     "metadata": {},
     "output_type": "execute_result"
    }
   ],
   "source": [
    "# Printing the value captured by the API request\n",
    "\n",
    "response.json()"
   ]
  },
  {
   "cell_type": "code",
   "execution_count": 29,
   "id": "ed1be204",
   "metadata": {},
   "outputs": [
    {
     "data": {
      "text/plain": [
       "dict_keys(['list', 'current', 'highest', 'highest_date', 'last_change', 'details_url', 'thread', 'translations'])"
      ]
     },
     "execution_count": 29,
     "metadata": {},
     "output_type": "execute_result"
    }
   ],
   "source": [
    "# Checking what all keys are available in the JSON fetched\n",
    "\n",
    "response.json().keys()"
   ]
  }
 ],
 "metadata": {
  "kernelspec": {
   "display_name": "Python 3 (ipykernel)",
   "language": "python",
   "name": "python3"
  },
  "language_info": {
   "codemirror_mode": {
    "name": "ipython",
    "version": 3
   },
   "file_extension": ".py",
   "mimetype": "text/x-python",
   "name": "python",
   "nbconvert_exporter": "python",
   "pygments_lexer": "ipython3",
   "version": "3.9.13"
  }
 },
 "nbformat": 4,
 "nbformat_minor": 5
}
